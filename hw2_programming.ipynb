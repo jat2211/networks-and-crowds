{
 "cells": [
  {
   "cell_type": "markdown",
   "id": "3c79a49e",
   "metadata": {},
   "source": [
    "# Exercise 3"
   ]
  },
  {
   "cell_type": "code",
   "execution_count": 1,
   "id": "5a79b144",
   "metadata": {},
   "outputs": [],
   "source": [
    "import networkx as nx\n",
    "import hw2\n",
    "hw2 = hw2.HW2()\n",
    "G = nx.Graph(hw2.edges)"
   ]
  },
  {
   "cell_type": "code",
   "execution_count": 26,
   "id": "316c4041",
   "metadata": {},
   "outputs": [],
   "source": [
    "degree_list1 = []\n",
    "for nd in G.degree:\n",
    "    # create a list of all degree values\n",
    "    degree_list1.append(nd[1])\n",
    "# find a list of all degree values that only appear once in network\n",
    "unq_degrees1 = [deg for deg in degree_list1 if degree_list1.count(deg)==1]\n",
    "\n",
    "# answer to exercise 3.1\n",
    "with open('2-1.txt', 'w') as f:\n",
    "    # track total number of compromised users\n",
    "    tot_comp1 = 0\n",
    "    \n",
    "    # iterate through tuple of node mapped to degree of that node\n",
    "    for node_deg in G.degree:\n",
    "        # if degree of node is not in list of unique degrees\n",
    "        if node_deg[1] in unq_degrees1:\n",
    "            f.write(str(node_deg[0]))\n",
    "            f.write('\\n')\n",
    "            tot_comp1 += 1\n",
    "    f.close()"
   ]
  },
  {
   "cell_type": "code",
   "execution_count": 31,
   "id": "1b485d28",
   "metadata": {},
   "outputs": [
    {
     "name": "stdout",
     "output_type": "stream",
     "text": [
      "Number of potentially compromised users in meeting with one user: 17\n"
     ]
    }
   ],
   "source": [
    "print(f\"Number of potentially compromised users in meeting with one user: {tot_comp1}\")"
   ]
  },
  {
   "cell_type": "code",
   "execution_count": 28,
   "id": "3d3890b8",
   "metadata": {},
   "outputs": [],
   "source": [
    "degree_list2 = []\n",
    "for nd in G.degree:\n",
    "    # create a list of all degree values\n",
    "    degree_list2.append(nd[1])\n",
    "# find a list of all degree values that only appear once in network\n",
    "unq_degrees2 = [deg for deg in degree_list2 if degree_list2.count(deg)<=2]\n",
    "\n",
    "\n",
    "with open('2-2.txt', 'w') as f:\n",
    "    # track total number of compromised users\n",
    "    tot_comp2 = 0\n",
    "    \n",
    "    # iterate through tuple of node mapped to degree of that node\n",
    "    for node_deg in G.degree:\n",
    "        # if degree of node is not in list of unique degrees\n",
    "        if node_deg[1] in unq_degrees2:\n",
    "            f.write(str(node_deg[0]))\n",
    "            f.write('\\n')\n",
    "            tot_comp2 += 1\n",
    "    f.close()"
   ]
  },
  {
   "cell_type": "code",
   "execution_count": 30,
   "id": "7f8cca6d",
   "metadata": {
    "scrolled": true
   },
   "outputs": [
    {
     "name": "stdout",
     "output_type": "stream",
     "text": [
      "Number of potentially compromised users in meeting with two users: 29\n"
     ]
    }
   ],
   "source": [
    "print(f\"Number of potentially compromised users in meeting with two users: {tot_comp2}\")"
   ]
  },
  {
   "cell_type": "code",
   "execution_count": 113,
   "id": "60a6859d",
   "metadata": {},
   "outputs": [
    {
     "name": "stdout",
     "output_type": "stream",
     "text": [
      "225\n"
     ]
    }
   ],
   "source": [
    "# find every set of degree values for the node pairs in every edge\n",
    "degree_pairs = []\n",
    "for u,v in G.edges():\n",
    "    temp_set = {G.degree[u], G.degree[v]}\n",
    "    degree_pairs.append(temp_set)\n",
    "\n",
    "# find all users that can be compromised regardless of if they're connected or not (same method as above)\n",
    "degree_list3 = []\n",
    "for nd in G.degree:\n",
    "    degree_list3.append(nd[1])\n",
    "unq_degrees3 = [deg for deg in degree_list3 if degree_list3.count(deg)<=2]\n",
    "\n",
    "comp_users = []\n",
    "# iterate through tuple of node mapped to degree of that node\n",
    "for node_deg in G.degree:\n",
    "    # if degree of node is not in list of unique degrees\n",
    "    if node_deg[1] in unq_degrees3:\n",
    "        comp_users.append(node_deg[0])\n",
    "        \n",
    "unq_degree_pairs = [pair for pair in degree_pairs if degree_pairs.count(pair)==1]\n",
    "for u,v in G.edges():\n",
    "    temp_set = {G.degree[u], G.degree[v]}\n",
    "    if temp_set in unq_degree_pairs:\n",
    "        comp_users.append(u)\n",
    "        comp_users.append(v)\n",
    "comp_users = list(set(comp_users)) # remove duplicate users\n",
    "print(len(comp_users))\n",
    "with open('2-3.txt', 'w') as f:\n",
    "    for user in comp_users:\n",
    "        f.write(str(user))\n",
    "        f.write('\\n')\n",
    "    f.close()"
   ]
  },
  {
   "cell_type": "code",
   "execution_count": 114,
   "id": "b2de6dfe",
   "metadata": {},
   "outputs": [
    {
     "name": "stdout",
     "output_type": "stream",
     "text": [
      "1098\n"
     ]
    }
   ],
   "source": [
    "comp_users = []\n",
    "\n",
    "degree_pairs = []\n",
    "deg_trip_list = []\n",
    "# find every set of degree values for the node pairs and node triangles\n",
    "for u,v in G.edges():\n",
    "    deg_u = G.degree[u]\n",
    "    deg_v = G.degree[v]\n",
    "    degree_pairs.append({deg_u, deg_v})\n",
    "    cn_list = sorted(nx.common_neighbors(G, u, v))\n",
    "    if len(cn_list) != 0:\n",
    "        for cn in cn_list:\n",
    "            deg_w = G.degree[cn]\n",
    "            deg_trip_list.append({deg_u, deg_v, deg_w})\n",
    "\n",
    "# find all users that can be compromised regardless of if they're connected or not (same method as above)\n",
    "degree_list4 = []\n",
    "for nd in G.degree:\n",
    "    degree_list4.append(nd[1])\n",
    "unq_degrees4 = [deg for deg in degree_list4 if degree_list4.count(deg)<=3]\n",
    "\n",
    "for node_deg in G.degree:\n",
    "    if node_deg[1] in unq_degrees4:\n",
    "        comp_users.append(node_deg[0])\n",
    "\n",
    "# find all unique pairs and triplets of degree values\n",
    "unq_degree_pairs = [pair for pair in degree_pairs if degree_pairs.count(pair)==1]\n",
    "unq_degree_trips = [trip for trip in deg_trip_list if deg_trip_list.count(trip)==3]\n",
    "\n",
    "for u,v in G.edges():\n",
    "    deg_u = G.degree[u]\n",
    "    deg_v = G.degree[v]\n",
    "    temp_pair = {deg_u, deg_v}\n",
    "    temp_neighbors = sorted(nx.common_neighbors(G, u, v))\n",
    "    if temp_pair in unq_degree_pairs:\n",
    "        comp_users.append(u)\n",
    "        comp_users.append(v)\n",
    "    if len(temp_neighbors) != 0:\n",
    "        for w in temp_neighbors:\n",
    "            deg_w = G.degree[w]\n",
    "            temp_trip = {deg_u, deg_v, deg_w}\n",
    "            if temp_trip in unq_degree_trips:\n",
    "                comp_users.append(u)\n",
    "                comp_users.append(v)\n",
    "                comp_users.append(w)\n",
    "                \n",
    "comp_users = list(set(comp_users)) # remove duplicate users\n",
    "print(len(comp_users))\n",
    "with open('2-4.txt', 'w') as f:\n",
    "    for user in comp_users:\n",
    "        f.write(str(user))\n",
    "        f.write('\\n')\n",
    "    f.close()"
   ]
  },
  {
   "cell_type": "markdown",
   "id": "2974e9b4",
   "metadata": {},
   "source": [
    "## Exercise 3.5"
   ]
  },
  {
   "cell_type": "markdown",
   "id": "a9340731",
   "metadata": {},
   "source": [
    "I observed that the more users whose information is leaked, the higher the number of users whose privacy is compromised. I also noted that given the structure of the graph as it is now, any leak of data can theoretically put any user at risk given the circumstances lining up. For example, in the first part of exercise 3, only one users degree data was leaked, however, there were still 17 users (according to my calculations) who had unique degree values in comparison to all other users, meaning that it only takes a single feature to be able to uniquely identify at least one individual in this graph. Leaking two users data increases the number of compromised users very quickly as well (perhaps exponentially but this is just a guess)."
   ]
  },
  {
   "cell_type": "markdown",
   "id": "260fd1e4",
   "metadata": {},
   "source": [
    "# Exercise 4"
   ]
  },
  {
   "cell_type": "code",
   "execution_count": 81,
   "id": "c23fa41d",
   "metadata": {},
   "outputs": [],
   "source": [
    "g1 = nx.read_edgelist(\"hw2Ex4/g1\")\n",
    "g2 = nx.read_edgelist(\"hw2Ex4/g2\")\n",
    "l = nx.read_edgelist(\"hw2Ex4/linked_pairs\")"
   ]
  },
  {
   "cell_type": "code",
   "execution_count": 73,
   "id": "5c0f961f",
   "metadata": {},
   "outputs": [
    {
     "data": {
      "text/plain": [
       "False"
      ]
     },
     "execution_count": 73,
     "metadata": {},
     "output_type": "execute_result"
    }
   ],
   "source": [
    "l.has_edge('3531','3455')"
   ]
  },
  {
   "cell_type": "code",
   "execution_count": 74,
   "id": "a6fb8ad2",
   "metadata": {},
   "outputs": [
    {
     "data": {
      "text/plain": [
       "True"
      ]
     },
     "execution_count": 74,
     "metadata": {},
     "output_type": "execute_result"
    }
   ],
   "source": [
    "g1.has_edge('995', '666')"
   ]
  },
  {
   "cell_type": "code",
   "execution_count": 62,
   "id": "1a0ed159",
   "metadata": {},
   "outputs": [
    {
     "name": "stdout",
     "output_type": "stream",
     "text": [
      "Number of new links: 4\n",
      "('4299', '6950')\n",
      "('6739', '3899')\n",
      "('2917', '4430')\n",
      "('5201', '4474')\n"
     ]
    }
   ],
   "source": [
    "new_links = []\n",
    "for v1 in list(g1):\n",
    "    for v2 in list(g2):\n",
    "        sim_score = 0\n",
    "        for u1 in g1.neighbors(v1):\n",
    "            for u2 in g2.neighbors(v2):\n",
    "                if l.has_edge(u1,u2):\n",
    "                    sim_score += 1\n",
    "        if sim_score >= 25:\n",
    "            new_links.append((v1,v2))\n",
    "clean_links = [] \n",
    "for link in new_links:\n",
    "    if (link[1],link[0]) not in clean_links:\n",
    "        clean_links.append(link)\n",
    "print(f\"Number of new links: {len(clean_links)}\")\n",
    "for l in clean_links:\n",
    "    print(l)"
   ]
  },
  {
   "cell_type": "code",
   "execution_count": 63,
   "id": "21ae528c",
   "metadata": {},
   "outputs": [],
   "source": [
    "with open('Ex3-1.txt', 'w') as f:\n",
    "    for l in clean_links:\n",
    "        f.write(f'{l[0]} {l[1]}')\n",
    "        f.write('\\n')\n",
    "    f.close()"
   ]
  },
  {
   "cell_type": "code",
   "execution_count": 69,
   "id": "0a2bfab6",
   "metadata": {},
   "outputs": [],
   "source": [
    "with open('test.txt', 'w') as f:\n",
    "    f.write(f'42 43')\n",
    "    f.write('\\n')\n",
    "with open('test.txt', 'a') as f:\n",
    "    f.write(f'54 21')\n",
    "    f.write('\\n')\n",
    "    f.close()"
   ]
  },
  {
   "cell_type": "code",
   "execution_count": 90,
   "id": "524e9d2c",
   "metadata": {},
   "outputs": [],
   "source": [
    "from operator import itemgetter"
   ]
  },
  {
   "cell_type": "code",
   "execution_count": 102,
   "id": "57d764cf",
   "metadata": {
    "scrolled": true
   },
   "outputs": [
    {
     "ename": "KeyboardInterrupt",
     "evalue": "",
     "output_type": "error",
     "traceback": [
      "\u001b[0;31m---------------------------------------------------------------------------\u001b[0m",
      "\u001b[0;31mKeyError\u001b[0m                                  Traceback (most recent call last)",
      "\u001b[0;32m~/miniconda3/lib/python3.9/site-packages/networkx/classes/graph.py\u001b[0m in \u001b[0;36mhas_edge\u001b[0;34m(self, u, v)\u001b[0m\n\u001b[1;32m   1209\u001b[0m         \u001b[0;32mtry\u001b[0m\u001b[0;34m:\u001b[0m\u001b[0;34m\u001b[0m\u001b[0;34m\u001b[0m\u001b[0m\n\u001b[0;32m-> 1210\u001b[0;31m             \u001b[0;32mreturn\u001b[0m \u001b[0mv\u001b[0m \u001b[0;32min\u001b[0m \u001b[0mself\u001b[0m\u001b[0;34m.\u001b[0m\u001b[0m_adj\u001b[0m\u001b[0;34m[\u001b[0m\u001b[0mu\u001b[0m\u001b[0;34m]\u001b[0m\u001b[0;34m\u001b[0m\u001b[0;34m\u001b[0m\u001b[0m\n\u001b[0m\u001b[1;32m   1211\u001b[0m         \u001b[0;32mexcept\u001b[0m \u001b[0mKeyError\u001b[0m\u001b[0;34m:\u001b[0m\u001b[0;34m\u001b[0m\u001b[0;34m\u001b[0m\u001b[0m\n",
      "\u001b[0;31mKeyError\u001b[0m: '3417'",
      "\nDuring handling of the above exception, another exception occurred:\n",
      "\u001b[0;31mKeyboardInterrupt\u001b[0m                         Traceback (most recent call last)",
      "\u001b[0;32m<ipython-input-102-defcf659bc69>\u001b[0m in \u001b[0;36m<module>\u001b[0;34m\u001b[0m\n\u001b[1;32m     17\u001b[0m                 \u001b[0;32mfor\u001b[0m \u001b[0mu1\u001b[0m \u001b[0;32min\u001b[0m \u001b[0mg1\u001b[0m\u001b[0;34m.\u001b[0m\u001b[0mneighbors\u001b[0m\u001b[0;34m(\u001b[0m\u001b[0mv1\u001b[0m\u001b[0;34m)\u001b[0m\u001b[0;34m:\u001b[0m\u001b[0;34m\u001b[0m\u001b[0;34m\u001b[0m\u001b[0m\n\u001b[1;32m     18\u001b[0m                     \u001b[0;32mfor\u001b[0m \u001b[0mu2\u001b[0m \u001b[0;32min\u001b[0m \u001b[0mg2\u001b[0m\u001b[0;34m.\u001b[0m\u001b[0mneighbors\u001b[0m\u001b[0;34m(\u001b[0m\u001b[0mv2\u001b[0m\u001b[0;34m)\u001b[0m\u001b[0;34m:\u001b[0m\u001b[0;34m\u001b[0m\u001b[0;34m\u001b[0m\u001b[0m\n\u001b[0;32m---> 19\u001b[0;31m                         \u001b[0;32mif\u001b[0m \u001b[0ml\u001b[0m\u001b[0;34m.\u001b[0m\u001b[0mhas_edge\u001b[0m\u001b[0;34m(\u001b[0m\u001b[0mu1\u001b[0m\u001b[0;34m,\u001b[0m\u001b[0mu2\u001b[0m\u001b[0;34m)\u001b[0m\u001b[0;34m:\u001b[0m\u001b[0;34m\u001b[0m\u001b[0;34m\u001b[0m\u001b[0m\n\u001b[0m\u001b[1;32m     20\u001b[0m                             \u001b[0msim_score\u001b[0m \u001b[0;34m+=\u001b[0m \u001b[0;36m1\u001b[0m\u001b[0;34m\u001b[0m\u001b[0;34m\u001b[0m\u001b[0m\n\u001b[1;32m     21\u001b[0m                 \u001b[0;31m# check sim score and check if edge is already a link\u001b[0m\u001b[0;34m\u001b[0m\u001b[0;34m\u001b[0m\u001b[0;34m\u001b[0m\u001b[0m\n",
      "\u001b[0;32m~/miniconda3/lib/python3.9/site-packages/networkx/classes/graph.py\u001b[0m in \u001b[0;36mhas_edge\u001b[0;34m(self, u, v)\u001b[0m\n\u001b[1;32m   1208\u001b[0m         \"\"\"\n\u001b[1;32m   1209\u001b[0m         \u001b[0;32mtry\u001b[0m\u001b[0;34m:\u001b[0m\u001b[0;34m\u001b[0m\u001b[0;34m\u001b[0m\u001b[0m\n\u001b[0;32m-> 1210\u001b[0;31m             \u001b[0;32mreturn\u001b[0m \u001b[0mv\u001b[0m \u001b[0;32min\u001b[0m \u001b[0mself\u001b[0m\u001b[0;34m.\u001b[0m\u001b[0m_adj\u001b[0m\u001b[0;34m[\u001b[0m\u001b[0mu\u001b[0m\u001b[0;34m]\u001b[0m\u001b[0;34m\u001b[0m\u001b[0;34m\u001b[0m\u001b[0m\n\u001b[0m\u001b[1;32m   1211\u001b[0m         \u001b[0;32mexcept\u001b[0m \u001b[0mKeyError\u001b[0m\u001b[0;34m:\u001b[0m\u001b[0;34m\u001b[0m\u001b[0;34m\u001b[0m\u001b[0m\n\u001b[1;32m   1212\u001b[0m             \u001b[0;32mreturn\u001b[0m \u001b[0;32mFalse\u001b[0m\u001b[0;34m\u001b[0m\u001b[0;34m\u001b[0m\u001b[0m\n",
      "\u001b[0;31mKeyboardInterrupt\u001b[0m: "
     ]
    }
   ],
   "source": [
    "g1 = nx.read_edgelist(\"hw2Ex4/g1\")\n",
    "g2 = nx.read_edgelist(\"hw2Ex4/g2\")\n",
    "l = nx.read_edgelist(\"hw2Ex4/linked_pairs\")\n",
    "\n",
    "num_new_links = 1\n",
    "iteration = 0\n",
    "\n",
    "while num_new_links > 0:\n",
    "    # test first with original links\n",
    "    if iteration == 0:\n",
    "        num_new_links = 0\n",
    "        new_links = []\n",
    "        # iterate through pairs\n",
    "        for v1 in list(g1):\n",
    "            for v2 in list(g2):\n",
    "                sim_score = 0\n",
    "                # iterate through neighbors of a pair\n",
    "                for u1 in g1.neighbors(v1):\n",
    "                    for u2 in g2.neighbors(v2):\n",
    "                        if l.has_edge(u1,u2):\n",
    "                            sim_score += 1\n",
    "                # check sim score and check if edge is already a link\n",
    "                if (sim_score >= 13) and (l.has_edge(v1,v2) == False):\n",
    "                    new_links.append((v1,v2,sim_score))\n",
    "        new_links = sorted(new_links, key = itemgetter(2,0,1), reverse=True)\n",
    "        num_new_links = len(new_links)\n",
    "        iteration += 1\n",
    "        print(iteration)\n",
    "        with open('Ex3-2-13.txt', 'w') as f:\n",
    "            for l in new_links:\n",
    "                f.write(f'{l[0]} {l[1]}')\n",
    "                f.write('\\n')\n",
    "            f.close()\n",
    "    # then test with newly added links    \n",
    "    else:\n",
    "        l_iter = nx.read_edgelist(\"Ex3-2-13.txt\")\n",
    "        l = nx.read_edgelist(\"hw2Ex4/linked_pairs\")\n",
    "        new_links = []\n",
    "        for v1 in list(g1):\n",
    "            pot_links = []\n",
    "            for v2 in list(g2):\n",
    "                l_iter = nx.read_edgelist(\"Ex3-2-13.txt\")\n",
    "                sim_score = 0\n",
    "                for u1 in g1.neighbors(v1):\n",
    "                    for u2 in g2.neighbors(v2):\n",
    "                        if (l_iter.has_edge(u1,u2)) or (l.has_edge(u1,u2)):\n",
    "                            sim_score += 1\n",
    "                \n",
    "                if (sim_score >= 13):\n",
    "                    if (l_iter.has_edge(v1,v2) == False) and (l.has_edge(v1,v2) == False):\n",
    "                        pot_links.append((v1,v2,sim_score))\n",
    "\n",
    "            pot_links = sorted(pot_links, key = itemgetter(2,0,1), reverse=True)\n",
    "            if len(pot_links) > 0:\n",
    "                new_links.append(pot_links[0])\n",
    "                \n",
    "        new_links = sorted(new_links, key = itemgetter(2,0,1), reverse=True)\n",
    "        num_new_links = len(new_links)\n",
    "        if num_new_links == 0:\n",
    "            break\n",
    "        iteration += 1\n",
    "        print(iteration)\n",
    "        with open('Ex3-2-13.txt', 'a') as f:\n",
    "            for l in new_links:\n",
    "                f.write(f'{l[0]} {l[1]}')\n",
    "                f.write('\\n')\n",
    "            f.close()"
   ]
  },
  {
   "cell_type": "code",
   "execution_count": 103,
   "id": "5afa4e6f",
   "metadata": {},
   "outputs": [
    {
     "name": "stdout",
     "output_type": "stream",
     "text": [
      "0\n"
     ]
    }
   ],
   "source": [
    "g1 = nx.read_edgelist(\"hw2Ex4/g1\")\n",
    "g2 = nx.read_edgelist(\"hw2Ex4/g2\")\n",
    "l = nx.read_edgelist(\"hw2Ex4/linked_pairs\")\n",
    "\n",
    "num_new_links = 1\n",
    "iteration = 0\n",
    "\n",
    "while num_new_links > 0:\n",
    "    # test first with original links\n",
    "    if iteration == 0:\n",
    "        num_new_links = 0\n",
    "        new_links = []\n",
    "        for v1 in g1.nodes():\n",
    "            for v2 in g2.nodes():\n",
    "                sim_score = 0\n",
    "                for u1 in g1.neighbors(v1):\n",
    "                    for u2 in g2.neighbors(v2):\n",
    "                        if l.has_edge(u1,u2):\n",
    "                            sim_score += 1\n",
    "                            \n",
    "                if (sim_score >= 16): \n",
    "                    if (l.has_edge(v1,v2) == False):\n",
    "                        new_links.append((v1,v2,sim_score))\n",
    "        \n",
    "        new_links = sorted(new_links, key = itemgetter(2,0,1), reverse=True)\n",
    "        num_new_links = len(new_links)\n",
    "        iteration += 1\n",
    "        \n",
    "        with open('Ex3-2-16.txt', 'w') as f:\n",
    "            for l in new_links:\n",
    "                f.write(f'{l[0]} {l[1]}')\n",
    "                f.write('\\n')\n",
    "            f.close()\n",
    "    # then test with newly added links    \n",
    "    else:\n",
    "        l_iter = nx.read_edgelist(\"Ex3-2-16.txt\")\n",
    "        l = nx.read_edgelist(\"hw2Ex4/linked_pairs\")\n",
    "        num_new_links = 0\n",
    "        new_links = []\n",
    "        for v1 in g1.nodes():\n",
    "            pot_links = []\n",
    "            for v2 in g2.nodes():\n",
    "                sim_score = 0\n",
    "                for u1 in g1.neighbors(v1):\n",
    "                    for u2 in g2.neighbors(v2):\n",
    "                        if l_iter.has_edge(u1,u2):\n",
    "                            sim_score += 1\n",
    "\n",
    "                if (sim_score >= 16):\n",
    "                    if (l_iter.has_edge(v1,v2) == False) and (l.has_edge(v1,v2) == False):\n",
    "                        pot_links.append((v1,v2,sim_score))\n",
    "        \n",
    "            pot_links = sorted(pot_links, key = itemgetter(2,0,1), reverse=True)\n",
    "            if len(pot_links) > 0:\n",
    "                new_links.append(pot_links[0])\n",
    "                \n",
    "        new_links = sorted(new_links, key = itemgetter(2,0,1), reverse=True)\n",
    "        num_new_links = len(new_links)\n",
    "        print(num_new_links)\n",
    "        if num_new_links == 0:\n",
    "            break\n",
    "        iteration += 1\n",
    "        \n",
    "        with open('Ex3-2-16.txt', 'a') as f:\n",
    "            for l in new_links:\n",
    "                f.write(f'{l[0]} {l[1]}')\n",
    "                f.write('\\n')\n",
    "            f.close()"
   ]
  },
  {
   "cell_type": "code",
   "execution_count": 111,
   "id": "3fad75a7",
   "metadata": {},
   "outputs": [
    {
     "name": "stdout",
     "output_type": "stream",
     "text": [
      "0\n"
     ]
    }
   ],
   "source": [
    "g1 = nx.read_edgelist(\"hw2Ex4/g1\")\n",
    "g2 = nx.read_edgelist(\"hw2Ex4/g2\")\n",
    "l = nx.read_edgelist(\"hw2Ex4/linked_pairs\")\n",
    "\n",
    "num_new_links = 1\n",
    "iteration = 0\n",
    "\n",
    "while num_new_links > 0:\n",
    "    # test first with original links\n",
    "    if iteration == 0:\n",
    "        num_new_links = 0\n",
    "        new_links = []\n",
    "        for v1 in g1.nodes():\n",
    "            pot_links = []\n",
    "            for v2 in g2.nodes():\n",
    "                sim_score = 0\n",
    "                for u1 in g1.neighbors(v1):\n",
    "                    for u2 in g2.neighbors(v2):\n",
    "                        if l.has_edge(u1,u2):\n",
    "                            sim_score += 1\n",
    "                            \n",
    "                if (sim_score >= 11): \n",
    "                    if (l.has_node(v1) ==  False) and (l.has_node(v2) ==  False):\n",
    "                            pot_links.append((v1,v2,sim_score))\n",
    "                        \n",
    "            pot_links = sorted(pot_links, key = itemgetter(2,0,1), reverse=True)\n",
    "            if len(pot_links) > 0:\n",
    "                new_links.append(pot_links[0])\n",
    " \n",
    "        new_links = sorted(new_links, key = itemgetter(2,0,1), reverse=True)\n",
    "        num_new_links = len(new_links)\n",
    "        iteration += 1\n",
    "        \n",
    "        with open('Ex3-2-11.txt', 'w') as f:\n",
    "            for l in new_links:\n",
    "                f.write(f'{l[0]} {l[1]}')\n",
    "                f.write('\\n')\n",
    "            f.close()\n",
    "    # then test with newly added links    \n",
    "    else:\n",
    "        l_iter = nx.read_edgelist(\"Ex3-2-11.txt\")\n",
    "        l = nx.read_edgelist(\"hw2Ex4/linked_pairs\")\n",
    "        num_new_links = 0\n",
    "        new_links = []\n",
    "        for v1 in g1.nodes():\n",
    "            pot_links = []\n",
    "            for v2 in g2.nodes():\n",
    "                sim_score = 0\n",
    "                for u1 in g1.neighbors(v1):\n",
    "                    for u2 in g2.neighbors(v2):\n",
    "                        if l_iter.has_edge(u1,u2):\n",
    "                            sim_score += 1\n",
    "\n",
    "                if (sim_score >= 11):\n",
    "                    if (l_iter.has_node(v1) ==  False) and (l_iter.has_node(v2) ==  False):\n",
    "                        if (l.has_node(v1) ==  False) and (l.has_node(v2) ==  False):\n",
    "                            pot_links.append((v1,v2,sim_score))\n",
    "                        \n",
    "            pot_links = sorted(pot_links, key = itemgetter(2,0,1), reverse=True)\n",
    "            if len(pot_links) > 0:\n",
    "                new_links.append(pot_links[0])\n",
    "                \n",
    "        new_links = sorted(new_links, key = itemgetter(2,0,1), reverse=True)\n",
    "        num_new_links = len(new_links)\n",
    "        print(num_new_links)\n",
    "        if num_new_links == 0:\n",
    "            break\n",
    "        iteration += 1\n",
    "        \n",
    "        with open('Ex3-2-11.txt', 'a') as f:\n",
    "            for l in new_links:\n",
    "                f.write(f'{l[0]} {l[1]}')\n",
    "                f.write('\\n')\n",
    "            f.close()"
   ]
  },
  {
   "cell_type": "code",
   "execution_count": 112,
   "id": "46111810",
   "metadata": {},
   "outputs": [],
   "source": [
    "g1 = nx.read_edgelist(\"hw2Ex4/g1\")\n",
    "g2 = nx.read_edgelist(\"hw2Ex4/g2\")\n",
    "l = nx.read_edgelist(\"hw2Ex4/linked_pairs\")\n",
    "\n",
    "num_new_links = 1\n",
    "MIN_SCORE = 25\n",
    "iteration = 0\n",
    "\n",
    "while (num_new_links != 0) and (MIN_SCORE >= 10):\n",
    "    # test first with original links\n",
    "    if iteration == 0:\n",
    "        num_new_links = 0\n",
    "        new_links = []\n",
    "        for v1 in g1.nodes():\n",
    "            pot_links = []\n",
    "            for v2 in g2.nodes():\n",
    "                sim_score = 0\n",
    "                for u1 in g1.neighbors(v1):\n",
    "                    for u2 in g2.neighbors(v2):\n",
    "                        if l.has_edge(u1,u2):\n",
    "                            sim_score += 1\n",
    "                            \n",
    "                if (sim_score >= MIN_SCORE):\n",
    "                    if (l.has_node(v1) ==  False) and (l.has_node(v2) ==  False):\n",
    "                        pot_links.append((v1,v2,sim_score))\n",
    "\n",
    "        new_links = sorted(new_links, key = itemgetter(2,0,1), reverse=True)\n",
    "        num_new_links = len(new_links)\n",
    "        iteration += 1\n",
    "        with open('Ex3-3.txt', 'w') as f:\n",
    "            for l in new_links:\n",
    "                f.write(f'{l[0]} {l[1]}')\n",
    "                f.write('\\n')\n",
    "            f.close()\n",
    "    # then test with newly added links    \n",
    "    else:\n",
    "        MIN_SCORE = 25 - (iteration*5)\n",
    "        l_iter = nx.read_edgelist(\"Ex3-3.txt\")\n",
    "        l = nx.read_edgelist(\"hw2Ex4/linked_pairs\")\n",
    "        num_new_links = 0\n",
    "        new_links = []\n",
    "        for v1 in g1.nodes():\n",
    "            pot_links = []\n",
    "            for v2 in g2.nodes():\n",
    "                sim_score = 0\n",
    "                for u1 in g1.neighbors(v1):\n",
    "                    for u2 in g2.neighbors(v2):\n",
    "                        if (l_iter.has_edge(u1,u2)) or (l.has_edge(u1,u2)):\n",
    "                            sim_score += 1\n",
    "\n",
    "                if (sim_score >= MIN_SCORE):\n",
    "                    if (l_iter.has_node(v1) ==  False) and (l_iter.has_node(v2) ==  False):\n",
    "                        if (l.has_node(v1) ==  False) and (l.has_node(v2) ==  False):\n",
    "                            pot_links.append((v1,v2,sim_score))\n",
    "                        \n",
    "            pot_links = sorted(pot_links, key = itemgetter(2,0,1), reverse=True)\n",
    "            if len(pot_links) > 0:\n",
    "                new_links.append(pot_links[0])\n",
    "\n",
    "        new_links = sorted(new_links, key = itemgetter(2,0,1), reverse=True)\n",
    "        num_new_links = len(new_links)\n",
    "        if num_new_links == 0:\n",
    "            break\n",
    "        iteration += 1\n",
    "        \n",
    "        with open('Ex3-3.txt', 'a') as f:\n",
    "            for l in new_links:\n",
    "                f.write(f'{l[0]} {l[1]}')\n",
    "                f.write('\\n')\n",
    "            f.close()"
   ]
  }
 ],
 "metadata": {
  "kernelspec": {
   "display_name": "Python 3",
   "language": "python",
   "name": "python3"
  },
  "language_info": {
   "codemirror_mode": {
    "name": "ipython",
    "version": 3
   },
   "file_extension": ".py",
   "mimetype": "text/x-python",
   "name": "python",
   "nbconvert_exporter": "python",
   "pygments_lexer": "ipython3",
   "version": "3.9.5"
  }
 },
 "nbformat": 4,
 "nbformat_minor": 5
}
