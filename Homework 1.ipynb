{
 "cells": [
  {
   "cell_type": "code",
   "execution_count": 1,
   "id": "45b1b8bd",
   "metadata": {},
   "outputs": [],
   "source": [
    "import networkx as nx"
   ]
  },
  {
   "cell_type": "markdown",
   "id": "14d4a284",
   "metadata": {},
   "source": [
    "# Exercise 2: Programming warm-up"
   ]
  },
  {
   "cell_type": "markdown",
   "id": "4c718857",
   "metadata": {},
   "source": [
    "## 1 Meaning of Life"
   ]
  },
  {
   "cell_type": "code",
   "execution_count": 2,
   "id": "091c0257",
   "metadata": {},
   "outputs": [
    {
     "name": "stdout",
     "output_type": "stream",
     "text": [
      "42\n"
     ]
    }
   ],
   "source": [
    "print(42)"
   ]
  },
  {
   "cell_type": "markdown",
   "id": "f8b9504c",
   "metadata": {},
   "source": [
    "## 2 Odd Numbers Between 50 and 150"
   ]
  },
  {
   "cell_type": "code",
   "execution_count": 3,
   "id": "8a61591b",
   "metadata": {},
   "outputs": [
    {
     "name": "stdout",
     "output_type": "stream",
     "text": [
      "51\n",
      "53\n",
      "55\n",
      "57\n",
      "59\n",
      "61\n",
      "63\n",
      "65\n",
      "67\n",
      "69\n",
      "71\n",
      "73\n",
      "75\n",
      "77\n",
      "79\n",
      "81\n",
      "83\n",
      "85\n",
      "87\n",
      "89\n",
      "91\n",
      "93\n",
      "95\n",
      "97\n",
      "99\n",
      "101\n",
      "103\n",
      "105\n",
      "107\n",
      "109\n",
      "111\n",
      "113\n",
      "115\n",
      "117\n",
      "119\n",
      "121\n",
      "123\n",
      "125\n",
      "127\n",
      "129\n",
      "131\n",
      "133\n",
      "135\n",
      "137\n",
      "139\n",
      "141\n",
      "143\n",
      "145\n",
      "147\n",
      "149\n"
     ]
    }
   ],
   "source": [
    "for i in range(50,150):\n",
    "    if (i % 2) == 1:\n",
    "        print(i)"
   ]
  },
  {
   "cell_type": "markdown",
   "id": "cfb096c0",
   "metadata": {},
   "source": [
    "# Exercise 3: Graph warm-up"
   ]
  },
  {
   "cell_type": "code",
   "execution_count": 4,
   "id": "3749b347",
   "metadata": {},
   "outputs": [],
   "source": [
    "import pandas as pd"
   ]
  },
  {
   "cell_type": "code",
   "execution_count": 5,
   "id": "bf14d2ce",
   "metadata": {},
   "outputs": [
    {
     "data": {
      "text/html": [
       "<div>\n",
       "<style scoped>\n",
       "    .dataframe tbody tr th:only-of-type {\n",
       "        vertical-align: middle;\n",
       "    }\n",
       "\n",
       "    .dataframe tbody tr th {\n",
       "        vertical-align: top;\n",
       "    }\n",
       "\n",
       "    .dataframe thead th {\n",
       "        text-align: right;\n",
       "    }\n",
       "</style>\n",
       "<table border=\"1\" class=\"dataframe\">\n",
       "  <thead>\n",
       "    <tr style=\"text-align: right;\">\n",
       "      <th></th>\n",
       "      <th># FromNodeId</th>\n",
       "      <th>ToNodeId</th>\n",
       "    </tr>\n",
       "  </thead>\n",
       "  <tbody>\n",
       "    <tr>\n",
       "      <th>0</th>\n",
       "      <td>3466</td>\n",
       "      <td>937</td>\n",
       "    </tr>\n",
       "    <tr>\n",
       "      <th>1</th>\n",
       "      <td>3466</td>\n",
       "      <td>5233</td>\n",
       "    </tr>\n",
       "    <tr>\n",
       "      <th>2</th>\n",
       "      <td>3466</td>\n",
       "      <td>8579</td>\n",
       "    </tr>\n",
       "    <tr>\n",
       "      <th>3</th>\n",
       "      <td>3466</td>\n",
       "      <td>10310</td>\n",
       "    </tr>\n",
       "    <tr>\n",
       "      <th>4</th>\n",
       "      <td>3466</td>\n",
       "      <td>15931</td>\n",
       "    </tr>\n",
       "    <tr>\n",
       "      <th>...</th>\n",
       "      <td>...</td>\n",
       "      <td>...</td>\n",
       "    </tr>\n",
       "    <tr>\n",
       "      <th>28975</th>\n",
       "      <td>10154</td>\n",
       "      <td>9224</td>\n",
       "    </tr>\n",
       "    <tr>\n",
       "      <th>28976</th>\n",
       "      <td>10154</td>\n",
       "      <td>16830</td>\n",
       "    </tr>\n",
       "    <tr>\n",
       "      <th>28977</th>\n",
       "      <td>11113</td>\n",
       "      <td>21723</td>\n",
       "    </tr>\n",
       "    <tr>\n",
       "      <th>28978</th>\n",
       "      <td>11113</td>\n",
       "      <td>23836</td>\n",
       "    </tr>\n",
       "    <tr>\n",
       "      <th>28979</th>\n",
       "      <td>11113</td>\n",
       "      <td>25050</td>\n",
       "    </tr>\n",
       "  </tbody>\n",
       "</table>\n",
       "<p>28980 rows × 2 columns</p>\n",
       "</div>"
      ],
      "text/plain": [
       "       # FromNodeId  ToNodeId\n",
       "0              3466       937\n",
       "1              3466      5233\n",
       "2              3466      8579\n",
       "3              3466     10310\n",
       "4              3466     15931\n",
       "...             ...       ...\n",
       "28975         10154      9224\n",
       "28976         10154     16830\n",
       "28977         11113     21723\n",
       "28978         11113     23836\n",
       "28979         11113     25050\n",
       "\n",
       "[28980 rows x 2 columns]"
      ]
     },
     "execution_count": 5,
     "metadata": {},
     "output_type": "execute_result"
    }
   ],
   "source": [
    "gr_df = pd.read_csv(\"CA-GrQc.txt\", sep='\\t', skiprows=3)\n",
    "\n",
    "gr_df"
   ]
  },
  {
   "cell_type": "code",
   "execution_count": 6,
   "id": "9ee78325",
   "metadata": {},
   "outputs": [
    {
     "data": {
      "text/plain": [
       "Index(['# FromNodeId', 'ToNodeId'], dtype='object')"
      ]
     },
     "execution_count": 6,
     "metadata": {},
     "output_type": "execute_result"
    }
   ],
   "source": [
    "gr_df.columns"
   ]
  },
  {
   "cell_type": "code",
   "execution_count": 7,
   "id": "fb0963f2",
   "metadata": {},
   "outputs": [
    {
     "data": {
      "text/html": [
       "<div>\n",
       "<style scoped>\n",
       "    .dataframe tbody tr th:only-of-type {\n",
       "        vertical-align: middle;\n",
       "    }\n",
       "\n",
       "    .dataframe tbody tr th {\n",
       "        vertical-align: top;\n",
       "    }\n",
       "\n",
       "    .dataframe thead th {\n",
       "        text-align: right;\n",
       "    }\n",
       "</style>\n",
       "<table border=\"1\" class=\"dataframe\">\n",
       "  <thead>\n",
       "    <tr style=\"text-align: right;\">\n",
       "      <th></th>\n",
       "      <th>From Node</th>\n",
       "      <th>To Node</th>\n",
       "    </tr>\n",
       "  </thead>\n",
       "  <tbody>\n",
       "    <tr>\n",
       "      <th>0</th>\n",
       "      <td>3466</td>\n",
       "      <td>937</td>\n",
       "    </tr>\n",
       "    <tr>\n",
       "      <th>1</th>\n",
       "      <td>3466</td>\n",
       "      <td>5233</td>\n",
       "    </tr>\n",
       "    <tr>\n",
       "      <th>2</th>\n",
       "      <td>3466</td>\n",
       "      <td>8579</td>\n",
       "    </tr>\n",
       "    <tr>\n",
       "      <th>3</th>\n",
       "      <td>3466</td>\n",
       "      <td>10310</td>\n",
       "    </tr>\n",
       "    <tr>\n",
       "      <th>4</th>\n",
       "      <td>3466</td>\n",
       "      <td>15931</td>\n",
       "    </tr>\n",
       "  </tbody>\n",
       "</table>\n",
       "</div>"
      ],
      "text/plain": [
       "   From Node  To Node\n",
       "0       3466      937\n",
       "1       3466     5233\n",
       "2       3466     8579\n",
       "3       3466    10310\n",
       "4       3466    15931"
      ]
     },
     "execution_count": 7,
     "metadata": {},
     "output_type": "execute_result"
    }
   ],
   "source": [
    "gr_df = gr_df.rename(columns={\"# FromNodeId\":\"From Node\", \"ToNodeId\":\"To Node\"})\n",
    "gr_df.head()"
   ]
  },
  {
   "cell_type": "code",
   "execution_count": 8,
   "id": "4e006b38",
   "metadata": {},
   "outputs": [],
   "source": [
    "G = nx.Graph()\n",
    "\n",
    "for index, row in gr_df.iterrows():\n",
    "    G.add_edge(row['From Node'], row['To Node'])\n",
    "    \n",
    "G.remove_edges_from(nx.selfloop_edges(G))"
   ]
  },
  {
   "cell_type": "markdown",
   "id": "572ff2a9",
   "metadata": {},
   "source": [
    "## 1 Max and Min Degree"
   ]
  },
  {
   "cell_type": "code",
   "execution_count": 9,
   "id": "8eb6b8f6",
   "metadata": {},
   "outputs": [],
   "source": [
    "from operator import itemgetter"
   ]
  },
  {
   "cell_type": "code",
   "execution_count": 10,
   "id": "f25adf62",
   "metadata": {},
   "outputs": [
    {
     "name": "stdout",
     "output_type": "stream",
     "text": [
      "The minimum degree of the network: 0\n",
      "The maximum degree of the network: 81\n"
     ]
    }
   ],
   "source": [
    "degree_list = list(G.degree)\n",
    "\n",
    "min_degree = min(degree_list,key=itemgetter(1))[1]\n",
    "max_degree = max(degree_list,key=itemgetter(1))[1]\n",
    "\n",
    "print(f\"The minimum degree of the network: {min_degree}\")\n",
    "print(f\"The maximum degree of the network: {max_degree}\")"
   ]
  },
  {
   "cell_type": "markdown",
   "id": "e7259398",
   "metadata": {},
   "source": [
    "## 2 Percentage of Coauthors"
   ]
  },
  {
   "cell_type": "code",
   "execution_count": 11,
   "id": "52001965",
   "metadata": {},
   "outputs": [
    {
     "name": "stdout",
     "output_type": "stream",
     "text": [
      "The percentage of authors with less than 1 coauthors: 22.853872567722245\n",
      "The percentage of authors with less than 10 coauthors: 87.71461274322778\n",
      "The percentage of authors with less than 20 coauthors: 95.13544448683709\n",
      "The percentage of authors with less than 40 coauthors: 98.60740175505532\n",
      "The percentage of authors with less than 80 coauthors: 99.98092331171308\n"
     ]
    }
   ],
   "source": [
    "co1 = co10 = co20 = co40 = co80 = 0\n",
    "tot_authors = G.number_of_nodes()\n",
    "\n",
    "for tup in degree_list:\n",
    "    curr_degree = tup[1]\n",
    "    \n",
    "    # num coauthors <= 1\n",
    "    if curr_degree <= 1:\n",
    "        co1 += 1\n",
    "        co10 += 1\n",
    "        co20 += 1\n",
    "        co40 += 1\n",
    "        co80 += 1\n",
    "    elif curr_degree <= 10:\n",
    "        co10 += 1\n",
    "        co20 += 1\n",
    "        co40 += 1\n",
    "        co80 += 1\n",
    "    elif curr_degree <= 20:\n",
    "        co20 += 1\n",
    "        co40 += 1\n",
    "        co80 += 1\n",
    "    elif curr_degree <= 40:\n",
    "        co40 += 1\n",
    "        co80 += 1\n",
    "    elif curr_degree <= 80:\n",
    "        co80 += 1\n",
    "        \n",
    "print(f\"The percentage of authors with less than 1 coauthors: {(co1 / tot_authors) * 100}\")\n",
    "print(f\"The percentage of authors with less than 10 coauthors: {(co10 / tot_authors) * 100}\")\n",
    "print(f\"The percentage of authors with less than 20 coauthors: {(co20 / tot_authors) * 100}\")\n",
    "print(f\"The percentage of authors with less than 40 coauthors: {(co40 / tot_authors) * 100}\")\n",
    "print(f\"The percentage of authors with less than 80 coauthors: {(co80 / tot_authors) * 100}\")"
   ]
  },
  {
   "cell_type": "markdown",
   "id": "9e945af6",
   "metadata": {},
   "source": [
    "# Exercise 4: Weak and Strong Ties"
   ]
  },
  {
   "cell_type": "code",
   "execution_count": 12,
   "id": "79af9112",
   "metadata": {},
   "outputs": [],
   "source": [
    "from networkx.classes.function import number_of_edges, common_neighbors\n",
    "from networkx.algorithms.components import connected_components, number_connected_components"
   ]
  },
  {
   "cell_type": "markdown",
   "id": "992d5913",
   "metadata": {},
   "source": [
    "## 1 Strong Tie Function"
   ]
  },
  {
   "cell_type": "code",
   "execution_count": 13,
   "id": "c6563629",
   "metadata": {},
   "outputs": [],
   "source": [
    "def is_strong_tie(graph, node1, node2):\n",
    "    comm_neighbors = list(common_neighbors(graph, node1, node2))\n",
    "    \n",
    "    if len(comm_neighbors) > 0:\n",
    "        return True\n",
    "    \n",
    "    return False"
   ]
  },
  {
   "cell_type": "code",
   "execution_count": 14,
   "id": "02c3a944",
   "metadata": {},
   "outputs": [
    {
     "data": {
      "text/plain": [
       "True"
      ]
     },
     "execution_count": 14,
     "metadata": {},
     "output_type": "execute_result"
    }
   ],
   "source": [
    "is_strong_tie(G, 18720, 19607)"
   ]
  },
  {
   "cell_type": "markdown",
   "id": "e896f27d",
   "metadata": {},
   "source": [
    "## 2 How Strong?"
   ]
  },
  {
   "cell_type": "code",
   "execution_count": 15,
   "id": "fea618ba",
   "metadata": {
    "scrolled": true
   },
   "outputs": [
    {
     "name": "stdout",
     "output_type": "stream",
     "text": [
      "The number of edges: 14484\n",
      "The number of strong_ties: 12878\n",
      "The number of weak ties: 1606\n"
     ]
    }
   ],
   "source": [
    "num_strong_ties = 0\n",
    "num_weak_ties = 0\n",
    "\n",
    "for u,v in G.edges():\n",
    "    if (is_strong_tie(G,u,v) == True):\n",
    "        num_strong_ties += 1\n",
    "    else:\n",
    "        num_weak_ties +=1\n",
    "                \n",
    "print(f\"The number of edges: {int(number_of_edges(G))}\")\n",
    "print(f\"The number of strong_ties: {int(num_strong_ties)}\")\n",
    "print(f\"The number of weak ties: {int(num_weak_ties)}\")"
   ]
  },
  {
   "cell_type": "markdown",
   "id": "deb31635",
   "metadata": {},
   "source": [
    "## 3 The Strength of our Weaknesses"
   ]
  },
  {
   "cell_type": "code",
   "execution_count": 16,
   "id": "5cfc64d8",
   "metadata": {},
   "outputs": [
    {
     "name": "stdout",
     "output_type": "stream",
     "text": [
      "The number of connected components originally: 355\n",
      "The number of connected components without weak ties: 1570\n",
      "The number of nodes in the largest connected component originally: 4158\n",
      "The number of nodes in the largest connected component without weak ties: 3115\n"
     ]
    }
   ],
   "source": [
    "G_cc = number_connected_components(G)\n",
    "H = G.copy()\n",
    "\n",
    "for u,v in H.edges():\n",
    "    if (is_strong_tie(H,u,v) == False):\n",
    "        H.remove_edge(u,v)\n",
    "        \n",
    "H_cc = number_connected_components(H)\n",
    "\n",
    "# return largest connected component of G and count nodes\n",
    "g = max(connected_components(G), key=len)\n",
    "G_num_nodes = G.subgraph(g).copy().number_of_nodes()\n",
    "\n",
    "# return largest connected component of H and count nodes\n",
    "h = max(connected_components(H), key=len)\n",
    "H_num_nodes = H.subgraph(h).copy().number_of_nodes()\n",
    "\n",
    "\n",
    "print(f\"The number of connected components originally: {G_cc}\")\n",
    "print(f\"The number of connected components without weak ties: {H_cc}\")\n",
    "print(f\"The number of nodes in the largest connected component originally: {G_num_nodes}\")\n",
    "print(f\"The number of nodes in the largest connected component without weak ties: {H_num_nodes}\")"
   ]
  }
 ],
 "metadata": {
  "kernelspec": {
   "display_name": "Python 3",
   "language": "python",
   "name": "python3"
  },
  "language_info": {
   "codemirror_mode": {
    "name": "ipython",
    "version": 3
   },
   "file_extension": ".py",
   "mimetype": "text/x-python",
   "name": "python",
   "nbconvert_exporter": "python",
   "pygments_lexer": "ipython3",
   "version": "3.9.5"
  }
 },
 "nbformat": 4,
 "nbformat_minor": 5
}
